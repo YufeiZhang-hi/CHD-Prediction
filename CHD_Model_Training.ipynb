{
 "cells": [
  {
   "cell_type": "code",
   "execution_count": 1,
   "id": "3a618335",
   "metadata": {},
   "outputs": [],
   "source": [
    "import pandas as pd"
   ]
  },
  {
   "cell_type": "code",
   "execution_count": 2,
   "id": "1c602bfd",
   "metadata": {},
   "outputs": [
    {
     "data": {
      "text/html": [
       "<div>\n",
       "<style scoped>\n",
       "    .dataframe tbody tr th:only-of-type {\n",
       "        vertical-align: middle;\n",
       "    }\n",
       "\n",
       "    .dataframe tbody tr th {\n",
       "        vertical-align: top;\n",
       "    }\n",
       "\n",
       "    .dataframe thead th {\n",
       "        text-align: right;\n",
       "    }\n",
       "</style>\n",
       "<table border=\"1\" class=\"dataframe\">\n",
       "  <thead>\n",
       "    <tr style=\"text-align: right;\">\n",
       "      <th></th>\n",
       "      <th>patientID</th>\n",
       "      <th>male</th>\n",
       "      <th>age</th>\n",
       "      <th>education</th>\n",
       "      <th>currentSmoker</th>\n",
       "      <th>cigsPerDay</th>\n",
       "      <th>BPMeds</th>\n",
       "      <th>prevalentStroke</th>\n",
       "      <th>prevalentHyp</th>\n",
       "      <th>diabetes</th>\n",
       "      <th>totChol</th>\n",
       "      <th>sysBP</th>\n",
       "      <th>diaBP</th>\n",
       "      <th>BMI</th>\n",
       "      <th>heartRate</th>\n",
       "      <th>glucose</th>\n",
       "      <th>TenYearCHD</th>\n",
       "      <th>a1c</th>\n",
       "      <th>income</th>\n",
       "    </tr>\n",
       "  </thead>\n",
       "  <tbody>\n",
       "    <tr>\n",
       "      <th>0</th>\n",
       "      <td>131107</td>\n",
       "      <td>0</td>\n",
       "      <td>49</td>\n",
       "      <td>3.0</td>\n",
       "      <td>1</td>\n",
       "      <td>10.0</td>\n",
       "      <td>0.0</td>\n",
       "      <td>0</td>\n",
       "      <td>0</td>\n",
       "      <td>0</td>\n",
       "      <td>260.0</td>\n",
       "      <td>123.0</td>\n",
       "      <td>80.0</td>\n",
       "      <td>23.10</td>\n",
       "      <td>63.0</td>\n",
       "      <td>65.0</td>\n",
       "      <td>1</td>\n",
       "      <td>3.374776</td>\n",
       "      <td>20195.0</td>\n",
       "    </tr>\n",
       "    <tr>\n",
       "      <th>1</th>\n",
       "      <td>318975</td>\n",
       "      <td>1</td>\n",
       "      <td>43</td>\n",
       "      <td>1.0</td>\n",
       "      <td>1</td>\n",
       "      <td>25.0</td>\n",
       "      <td>0.0</td>\n",
       "      <td>0</td>\n",
       "      <td>0</td>\n",
       "      <td>0</td>\n",
       "      <td>201.0</td>\n",
       "      <td>121.0</td>\n",
       "      <td>82.0</td>\n",
       "      <td>23.84</td>\n",
       "      <td>70.0</td>\n",
       "      <td>91.0</td>\n",
       "      <td>0</td>\n",
       "      <td>5.003918</td>\n",
       "      <td>13585.0</td>\n",
       "    </tr>\n",
       "    <tr>\n",
       "      <th>2</th>\n",
       "      <td>222774</td>\n",
       "      <td>1</td>\n",
       "      <td>45</td>\n",
       "      <td>1.0</td>\n",
       "      <td>1</td>\n",
       "      <td>1.0</td>\n",
       "      <td>0.0</td>\n",
       "      <td>0</td>\n",
       "      <td>1</td>\n",
       "      <td>0</td>\n",
       "      <td>277.0</td>\n",
       "      <td>140.0</td>\n",
       "      <td>84.0</td>\n",
       "      <td>28.74</td>\n",
       "      <td>69.0</td>\n",
       "      <td>74.0</td>\n",
       "      <td>0</td>\n",
       "      <td>3.654142</td>\n",
       "      <td>27570.0</td>\n",
       "    </tr>\n",
       "    <tr>\n",
       "      <th>3</th>\n",
       "      <td>644306</td>\n",
       "      <td>0</td>\n",
       "      <td>63</td>\n",
       "      <td>3.0</td>\n",
       "      <td>1</td>\n",
       "      <td>10.0</td>\n",
       "      <td>0.0</td>\n",
       "      <td>0</td>\n",
       "      <td>1</td>\n",
       "      <td>0</td>\n",
       "      <td>236.0</td>\n",
       "      <td>189.0</td>\n",
       "      <td>103.0</td>\n",
       "      <td>27.91</td>\n",
       "      <td>60.0</td>\n",
       "      <td>74.0</td>\n",
       "      <td>0</td>\n",
       "      <td>4.220056</td>\n",
       "      <td>12217.0</td>\n",
       "    </tr>\n",
       "    <tr>\n",
       "      <th>4</th>\n",
       "      <td>101056</td>\n",
       "      <td>1</td>\n",
       "      <td>59</td>\n",
       "      <td>2.0</td>\n",
       "      <td>0</td>\n",
       "      <td>NaN</td>\n",
       "      <td>0.0</td>\n",
       "      <td>0</td>\n",
       "      <td>0</td>\n",
       "      <td>0</td>\n",
       "      <td>237.0</td>\n",
       "      <td>131.5</td>\n",
       "      <td>84.0</td>\n",
       "      <td>24.17</td>\n",
       "      <td>90.0</td>\n",
       "      <td>94.0</td>\n",
       "      <td>1</td>\n",
       "      <td>4.601007</td>\n",
       "      <td>16395.0</td>\n",
       "    </tr>\n",
       "  </tbody>\n",
       "</table>\n",
       "</div>"
      ],
      "text/plain": [
       "   patientID  male  age  education  currentSmoker  cigsPerDay  BPMeds  \\\n",
       "0     131107     0   49        3.0              1        10.0     0.0   \n",
       "1     318975     1   43        1.0              1        25.0     0.0   \n",
       "2     222774     1   45        1.0              1         1.0     0.0   \n",
       "3     644306     0   63        3.0              1        10.0     0.0   \n",
       "4     101056     1   59        2.0              0         NaN     0.0   \n",
       "\n",
       "   prevalentStroke  prevalentHyp  diabetes  totChol  sysBP  diaBP    BMI  \\\n",
       "0                0             0         0    260.0  123.0   80.0  23.10   \n",
       "1                0             0         0    201.0  121.0   82.0  23.84   \n",
       "2                0             1         0    277.0  140.0   84.0  28.74   \n",
       "3                0             1         0    236.0  189.0  103.0  27.91   \n",
       "4                0             0         0    237.0  131.5   84.0  24.17   \n",
       "\n",
       "   heartRate  glucose  TenYearCHD       a1c   income  \n",
       "0       63.0     65.0           1  3.374776  20195.0  \n",
       "1       70.0     91.0           0  5.003918  13585.0  \n",
       "2       69.0     74.0           0  3.654142  27570.0  \n",
       "3       60.0     74.0           0  4.220056  12217.0  \n",
       "4       90.0     94.0           1  4.601007  16395.0  "
      ]
     },
     "execution_count": 2,
     "metadata": {},
     "output_type": "execute_result"
    }
   ],
   "source": [
    "df=pd.read_csv('./Final Project Dataset.csv')\n",
    "df.head()"
   ]
  },
  {
   "cell_type": "code",
   "execution_count": 4,
   "id": "f8c81541",
   "metadata": {},
   "outputs": [
    {
     "data": {
      "text/html": [
       "<div>\n",
       "<style scoped>\n",
       "    .dataframe tbody tr th:only-of-type {\n",
       "        vertical-align: middle;\n",
       "    }\n",
       "\n",
       "    .dataframe tbody tr th {\n",
       "        vertical-align: top;\n",
       "    }\n",
       "\n",
       "    .dataframe thead th {\n",
       "        text-align: right;\n",
       "    }\n",
       "</style>\n",
       "<table border=\"1\" class=\"dataframe\">\n",
       "  <thead>\n",
       "    <tr style=\"text-align: right;\">\n",
       "      <th></th>\n",
       "      <th>patientID</th>\n",
       "      <th>male</th>\n",
       "      <th>age</th>\n",
       "      <th>education</th>\n",
       "      <th>currentSmoker</th>\n",
       "      <th>cigsPerDay</th>\n",
       "      <th>BPMeds</th>\n",
       "      <th>prevalentStroke</th>\n",
       "      <th>prevalentHyp</th>\n",
       "      <th>diabetes</th>\n",
       "      <th>totChol</th>\n",
       "      <th>sysBP</th>\n",
       "      <th>diaBP</th>\n",
       "      <th>BMI</th>\n",
       "      <th>heartRate</th>\n",
       "      <th>glucose</th>\n",
       "      <th>TenYearCHD</th>\n",
       "      <th>a1c</th>\n",
       "      <th>income</th>\n",
       "    </tr>\n",
       "  </thead>\n",
       "  <tbody>\n",
       "    <tr>\n",
       "      <th>count</th>\n",
       "      <td>3816.000000</td>\n",
       "      <td>3816.000000</td>\n",
       "      <td>3816.000000</td>\n",
       "      <td>3723.000000</td>\n",
       "      <td>3816.000000</td>\n",
       "      <td>1841.000000</td>\n",
       "      <td>3771.000000</td>\n",
       "      <td>3816.000000</td>\n",
       "      <td>3816.000000</td>\n",
       "      <td>3816.000000</td>\n",
       "      <td>3769.000000</td>\n",
       "      <td>3816.000000</td>\n",
       "      <td>3816.000000</td>\n",
       "      <td>3797.000000</td>\n",
       "      <td>3815.000000</td>\n",
       "      <td>3455.000000</td>\n",
       "      <td>3816.000000</td>\n",
       "      <td>3455.000000</td>\n",
       "      <td>3816.000000</td>\n",
       "    </tr>\n",
       "    <tr>\n",
       "      <th>mean</th>\n",
       "      <td>554019.064990</td>\n",
       "      <td>0.427673</td>\n",
       "      <td>49.567348</td>\n",
       "      <td>1.974483</td>\n",
       "      <td>0.489518</td>\n",
       "      <td>18.500272</td>\n",
       "      <td>0.029170</td>\n",
       "      <td>0.006027</td>\n",
       "      <td>0.306604</td>\n",
       "      <td>0.024895</td>\n",
       "      <td>240.852746</td>\n",
       "      <td>132.260089</td>\n",
       "      <td>82.874214</td>\n",
       "      <td>25.814791</td>\n",
       "      <td>75.775098</td>\n",
       "      <td>81.856151</td>\n",
       "      <td>0.151730</td>\n",
       "      <td>4.296312</td>\n",
       "      <td>20355.886792</td>\n",
       "    </tr>\n",
       "    <tr>\n",
       "      <th>std</th>\n",
       "      <td>257048.088884</td>\n",
       "      <td>0.494806</td>\n",
       "      <td>8.597611</td>\n",
       "      <td>1.018709</td>\n",
       "      <td>0.499956</td>\n",
       "      <td>10.925445</td>\n",
       "      <td>0.168305</td>\n",
       "      <td>0.077411</td>\n",
       "      <td>0.461144</td>\n",
       "      <td>0.155826</td>\n",
       "      <td>188.931740</td>\n",
       "      <td>22.119653</td>\n",
       "      <td>11.907613</td>\n",
       "      <td>4.099671</td>\n",
       "      <td>12.036836</td>\n",
       "      <td>23.571126</td>\n",
       "      <td>0.358806</td>\n",
       "      <td>1.193444</td>\n",
       "      <td>17865.579646</td>\n",
       "    </tr>\n",
       "    <tr>\n",
       "      <th>min</th>\n",
       "      <td>100002.000000</td>\n",
       "      <td>0.000000</td>\n",
       "      <td>32.000000</td>\n",
       "      <td>1.000000</td>\n",
       "      <td>0.000000</td>\n",
       "      <td>1.000000</td>\n",
       "      <td>0.000000</td>\n",
       "      <td>0.000000</td>\n",
       "      <td>0.000000</td>\n",
       "      <td>0.000000</td>\n",
       "      <td>107.000000</td>\n",
       "      <td>83.500000</td>\n",
       "      <td>50.000000</td>\n",
       "      <td>15.540000</td>\n",
       "      <td>44.000000</td>\n",
       "      <td>40.000000</td>\n",
       "      <td>0.000000</td>\n",
       "      <td>2.134769</td>\n",
       "      <td>12000.000000</td>\n",
       "    </tr>\n",
       "    <tr>\n",
       "      <th>25%</th>\n",
       "      <td>336251.750000</td>\n",
       "      <td>0.000000</td>\n",
       "      <td>42.000000</td>\n",
       "      <td>1.000000</td>\n",
       "      <td>0.000000</td>\n",
       "      <td>10.000000</td>\n",
       "      <td>0.000000</td>\n",
       "      <td>0.000000</td>\n",
       "      <td>0.000000</td>\n",
       "      <td>0.000000</td>\n",
       "      <td>205.000000</td>\n",
       "      <td>117.000000</td>\n",
       "      <td>75.000000</td>\n",
       "      <td>23.070000</td>\n",
       "      <td>68.000000</td>\n",
       "      <td>71.000000</td>\n",
       "      <td>0.000000</td>\n",
       "      <td>3.738947</td>\n",
       "      <td>13562.500000</td>\n",
       "    </tr>\n",
       "    <tr>\n",
       "      <th>50%</th>\n",
       "      <td>555421.500000</td>\n",
       "      <td>0.000000</td>\n",
       "      <td>49.000000</td>\n",
       "      <td>2.000000</td>\n",
       "      <td>0.000000</td>\n",
       "      <td>20.000000</td>\n",
       "      <td>0.000000</td>\n",
       "      <td>0.000000</td>\n",
       "      <td>0.000000</td>\n",
       "      <td>0.000000</td>\n",
       "      <td>234.000000</td>\n",
       "      <td>128.000000</td>\n",
       "      <td>82.000000</td>\n",
       "      <td>25.400000</td>\n",
       "      <td>75.000000</td>\n",
       "      <td>78.000000</td>\n",
       "      <td>0.000000</td>\n",
       "      <td>4.126325</td>\n",
       "      <td>16055.000000</td>\n",
       "    </tr>\n",
       "    <tr>\n",
       "      <th>75%</th>\n",
       "      <td>772812.250000</td>\n",
       "      <td>1.000000</td>\n",
       "      <td>56.000000</td>\n",
       "      <td>3.000000</td>\n",
       "      <td>1.000000</td>\n",
       "      <td>20.000000</td>\n",
       "      <td>0.000000</td>\n",
       "      <td>0.000000</td>\n",
       "      <td>1.000000</td>\n",
       "      <td>0.000000</td>\n",
       "      <td>263.000000</td>\n",
       "      <td>143.500000</td>\n",
       "      <td>89.500000</td>\n",
       "      <td>28.040000</td>\n",
       "      <td>82.000000</td>\n",
       "      <td>87.000000</td>\n",
       "      <td>0.000000</td>\n",
       "      <td>4.564732</td>\n",
       "      <td>21395.500000</td>\n",
       "    </tr>\n",
       "    <tr>\n",
       "      <th>max</th>\n",
       "      <td>999826.000000</td>\n",
       "      <td>1.000000</td>\n",
       "      <td>70.000000</td>\n",
       "      <td>4.000000</td>\n",
       "      <td>1.000000</td>\n",
       "      <td>70.000000</td>\n",
       "      <td>1.000000</td>\n",
       "      <td>1.000000</td>\n",
       "      <td>1.000000</td>\n",
       "      <td>1.000000</td>\n",
       "      <td>9280.000000</td>\n",
       "      <td>295.000000</td>\n",
       "      <td>142.500000</td>\n",
       "      <td>56.800000</td>\n",
       "      <td>143.000000</td>\n",
       "      <td>394.000000</td>\n",
       "      <td>1.000000</td>\n",
       "      <td>19.917371</td>\n",
       "      <td>524494.000000</td>\n",
       "    </tr>\n",
       "  </tbody>\n",
       "</table>\n",
       "</div>"
      ],
      "text/plain": [
       "           patientID         male          age    education  currentSmoker  \\\n",
       "count    3816.000000  3816.000000  3816.000000  3723.000000    3816.000000   \n",
       "mean   554019.064990     0.427673    49.567348     1.974483       0.489518   \n",
       "std    257048.088884     0.494806     8.597611     1.018709       0.499956   \n",
       "min    100002.000000     0.000000    32.000000     1.000000       0.000000   \n",
       "25%    336251.750000     0.000000    42.000000     1.000000       0.000000   \n",
       "50%    555421.500000     0.000000    49.000000     2.000000       0.000000   \n",
       "75%    772812.250000     1.000000    56.000000     3.000000       1.000000   \n",
       "max    999826.000000     1.000000    70.000000     4.000000       1.000000   \n",
       "\n",
       "        cigsPerDay       BPMeds  prevalentStroke  prevalentHyp     diabetes  \\\n",
       "count  1841.000000  3771.000000      3816.000000   3816.000000  3816.000000   \n",
       "mean     18.500272     0.029170         0.006027      0.306604     0.024895   \n",
       "std      10.925445     0.168305         0.077411      0.461144     0.155826   \n",
       "min       1.000000     0.000000         0.000000      0.000000     0.000000   \n",
       "25%      10.000000     0.000000         0.000000      0.000000     0.000000   \n",
       "50%      20.000000     0.000000         0.000000      0.000000     0.000000   \n",
       "75%      20.000000     0.000000         0.000000      1.000000     0.000000   \n",
       "max      70.000000     1.000000         1.000000      1.000000     1.000000   \n",
       "\n",
       "           totChol        sysBP        diaBP          BMI    heartRate  \\\n",
       "count  3769.000000  3816.000000  3816.000000  3797.000000  3815.000000   \n",
       "mean    240.852746   132.260089    82.874214    25.814791    75.775098   \n",
       "std     188.931740    22.119653    11.907613     4.099671    12.036836   \n",
       "min     107.000000    83.500000    50.000000    15.540000    44.000000   \n",
       "25%     205.000000   117.000000    75.000000    23.070000    68.000000   \n",
       "50%     234.000000   128.000000    82.000000    25.400000    75.000000   \n",
       "75%     263.000000   143.500000    89.500000    28.040000    82.000000   \n",
       "max    9280.000000   295.000000   142.500000    56.800000   143.000000   \n",
       "\n",
       "           glucose   TenYearCHD          a1c         income  \n",
       "count  3455.000000  3816.000000  3455.000000    3816.000000  \n",
       "mean     81.856151     0.151730     4.296312   20355.886792  \n",
       "std      23.571126     0.358806     1.193444   17865.579646  \n",
       "min      40.000000     0.000000     2.134769   12000.000000  \n",
       "25%      71.000000     0.000000     3.738947   13562.500000  \n",
       "50%      78.000000     0.000000     4.126325   16055.000000  \n",
       "75%      87.000000     0.000000     4.564732   21395.500000  \n",
       "max     394.000000     1.000000    19.917371  524494.000000  "
      ]
     },
     "execution_count": 4,
     "metadata": {},
     "output_type": "execute_result"
    }
   ],
   "source": [
    "df.describe()"
   ]
  },
  {
   "cell_type": "code",
   "execution_count": 7,
   "id": "3fc5b72b",
   "metadata": {},
   "outputs": [
    {
     "data": {
      "text/plain": [
       "patientID             0\n",
       "male                  0\n",
       "age                   0\n",
       "education            93\n",
       "currentSmoker         0\n",
       "cigsPerDay         1975\n",
       "BPMeds               45\n",
       "prevalentStroke       0\n",
       "prevalentHyp          0\n",
       "diabetes              0\n",
       "totChol              47\n",
       "sysBP                 0\n",
       "diaBP                 0\n",
       "BMI                  19\n",
       "heartRate             1\n",
       "glucose             361\n",
       "TenYearCHD            0\n",
       "a1c                 361\n",
       "income                0\n",
       "dtype: int64"
      ]
     },
     "execution_count": 7,
     "metadata": {},
     "output_type": "execute_result"
    }
   ],
   "source": [
    "df.isnull().sum()"
   ]
  },
  {
   "cell_type": "code",
   "execution_count": 8,
   "id": "40680fe4",
   "metadata": {},
   "outputs": [
    {
     "data": {
      "text/plain": [
       "patientID            int64\n",
       "male                 int64\n",
       "age                  int64\n",
       "education          float64\n",
       "currentSmoker        int64\n",
       "cigsPerDay         float64\n",
       "BPMeds             float64\n",
       "prevalentStroke      int64\n",
       "prevalentHyp         int64\n",
       "diabetes             int64\n",
       "totChol            float64\n",
       "sysBP              float64\n",
       "diaBP              float64\n",
       "BMI                float64\n",
       "heartRate          float64\n",
       "glucose            float64\n",
       "TenYearCHD           int64\n",
       "a1c                float64\n",
       "income             float64\n",
       "dtype: object"
      ]
     },
     "execution_count": 8,
     "metadata": {},
     "output_type": "execute_result"
    }
   ],
   "source": [
    "df.dtypes"
   ]
  },
  {
   "cell_type": "code",
   "execution_count": 12,
   "id": "1672c4d3",
   "metadata": {},
   "outputs": [
    {
     "name": "stdout",
     "output_type": "stream",
     "text": [
      "the count missing cig_per_day when patient is a current smoker is 27\n",
      " the count missing cig_per_day when patient is not a current smoker is 1948\n"
     ]
    }
   ],
   "source": [
    "missing_cigs_smokers = df[(df['currentSmoker'] == 1) & (df['cigsPerDay'].isnull())].shape[0]\n",
    "\n",
    "missing_cigs_nonsmokers = df[(df['currentSmoker'] == 0) & (df['cigsPerDay'].isnull())].shape[0]\n",
    "\n",
    "print(f'the count missing cig_per_day when patient is a current smoker is {missing_cigs_smokers}\\n the count missing cig_per_day when patient is not a current smoker is {missing_cigs_nonsmokers}')"
   ]
  },
  {
   "cell_type": "code",
   "execution_count": 15,
   "id": "8ed2ecc9",
   "metadata": {},
   "outputs": [
    {
     "name": "stdout",
     "output_type": "stream",
     "text": [
      "the count missing a1c when patient has diabetes is 4\n",
      "the count missing a1c when patient does not have diabetes is 357\n"
     ]
    }
   ],
   "source": [
    "missing_a1c_diabetes = df[(df['diabetes'] == 1) & (df['a1c'].isnull())].shape[0]\n",
    "\n",
    "missing_a1c_nondiabetes = df[(df['diabetes'] == 0) & (df['a1c'].isnull())].shape[0]\n",
    "\n",
    "print(f'the count missing a1c when patient has diabetes is {missing_a1c_diabetes}\\nthe count missing a1c when patient does not have diabetes is {missing_a1c_nondiabetes}')\n",
    "\n"
   ]
  },
  {
   "cell_type": "code",
   "execution_count": 16,
   "id": "14c21d59",
   "metadata": {},
   "outputs": [],
   "source": [
    "project_id = 'ise543-finalproject-421906'\n",
    "location = 'us-central1'\n",
    "\n",
    "from google.cloud import aiplatform\n",
    "aiplatform.init(project=project_id, location=location)\n",
    "from kfp.dsl import pipeline"
   ]
  },
  {
   "cell_type": "code",
   "execution_count": 145,
   "id": "22542c7b",
   "metadata": {},
   "outputs": [],
   "source": [
    "df=pd.read_csv('./Final Project Dataset.csv')"
   ]
  },
  {
   "cell_type": "code",
   "execution_count": 148,
   "id": "69be1f22",
   "metadata": {},
   "outputs": [
    {
     "data": {
      "text/plain": [
       "male                     0\n",
       "currentSmoker            0\n",
       "cigsPerDay               0\n",
       "BPMeds                   0\n",
       "prevalentStroke          0\n",
       "prevalentHyp             0\n",
       "diabetes                 0\n",
       "totChol                 38\n",
       "sysBP                    0\n",
       "diaBP                    0\n",
       "BMI                     15\n",
       "heartRate                0\n",
       "TenYearCHD               0\n",
       "a1c                    292\n",
       "log_bmi                  0\n",
       "log_tot_chol             0\n",
       "log_sysbp                0\n",
       "log_a1c                  0\n",
       "Demographic Cluster      0\n",
       "dtype: int64"
      ]
     },
     "execution_count": 148,
     "metadata": {},
     "output_type": "execute_result"
    }
   ],
   "source": [
    "df2=pd.read_csv('/Users/yufeizhang/Desktop/tmp.csv')\n",
    "df2.isnull().sum()"
   ]
  },
  {
   "cell_type": "markdown",
   "id": "ec4bc472",
   "metadata": {},
   "source": [
    "# Data imputation"
   ]
  },
  {
   "cell_type": "markdown",
   "id": "4d0603f6",
   "metadata": {},
   "source": [
    "## Education"
   ]
  },
  {
   "cell_type": "code",
   "execution_count": 28,
   "id": "24e4f23f",
   "metadata": {},
   "outputs": [
    {
     "data": {
      "text/plain": [
       "0"
      ]
     },
     "execution_count": 28,
     "metadata": {},
     "output_type": "execute_result"
    }
   ],
   "source": [
    "import pandas as pd\n",
    "import numpy as np\n",
    "from sklearn.impute import SimpleImputer\n",
    "from scipy.stats import mode\n",
    "\n",
    "from sklearn.linear_model import LinearRegression\n",
    "\n",
    "train_data = df.dropna(subset=['education', 'age'])\n",
    "model = LinearRegression()\n",
    "model.fit(train_data[['age']], train_data['education'])\n",
    "\n",
    "# Predicting missing education values\n",
    "missing_education = df[df['education'].isnull()]\n",
    "predicted_education = model.predict(missing_education[['age']])\n",
    "df.loc[df['education'].isnull(), 'education'] = predicted_education.round()\n",
    "\n",
    "df['education'].isna().sum()"
   ]
  },
  {
   "cell_type": "markdown",
   "id": "c26a1021",
   "metadata": {},
   "source": [
    "# Data Enigeering"
   ]
  },
  {
   "cell_type": "code",
   "execution_count": 33,
   "id": "69492cc7",
   "metadata": {},
   "outputs": [],
   "source": [
    "from sklearn.cluster import KMeans\n",
    "from sklearn.preprocessing import StandardScaler"
   ]
  },
  {
   "cell_type": "markdown",
   "id": "d7e46423",
   "metadata": {},
   "source": [
    "## find out the best k for clustering"
   ]
  },
  {
   "cell_type": "code",
   "execution_count": 35,
   "id": "a0235e9c",
   "metadata": {},
   "outputs": [
    {
     "name": "stderr",
     "output_type": "stream",
     "text": [
      "/Users/yufeizhang/anaconda3/lib/python3.11/site-packages/sklearn/cluster/_kmeans.py:1412: FutureWarning: The default value of `n_init` will change from 10 to 'auto' in 1.4. Set the value of `n_init` explicitly to suppress the warning\n",
      "  super()._check_params_vs_input(X, default_n_init=10)\n"
     ]
    },
    {
     "data": {
      "image/png": "[encoded data removed]",
      "text/plain": [
       "<Figure size 640x480 with 1 Axes>"
      ]
     },
     "metadata": {},
     "output_type": "display_data"
    },
    {
     "name": "stderr",
     "output_type": "stream",
     "text": [
      "/Users/yufeizhang/anaconda3/lib/python3.11/site-packages/sklearn/cluster/_kmeans.py:1412: FutureWarning: The default value of `n_init` will change from 10 to 'auto' in 1.4. Set the value of `n_init` explicitly to suppress the warning\n",
      "  super()._check_params_vs_input(X, default_n_init=10)\n"
     ]
    },
    {
     "data": {
      "image/png": "[encoded data removed]",
      "text/plain": [
       "<Figure size 640x480 with 1 Axes>"
      ]
     },
     "metadata": {},
     "output_type": "display_data"
    },
    {
     "name": "stderr",
     "output_type": "stream",
     "text": [
      "/Users/yufeizhang/anaconda3/lib/python3.11/site-packages/sklearn/cluster/_kmeans.py:1412: FutureWarning: The default value of `n_init` will change from 10 to 'auto' in 1.4. Set the value of `n_init` explicitly to suppress the warning\n",
      "  super()._check_params_vs_input(X, default_n_init=10)\n"
     ]
    },
    {
     "data": {
      "image/png": "[encoded data removed]",
      "text/plain": [
       "<Figure size 640x480 with 1 Axes>"
      ]
     },
     "metadata": {},
     "output_type": "display_data"
    },
    {
     "name": "stderr",
     "output_type": "stream",
     "text": [
      "/Users/yufeizhang/anaconda3/lib/python3.11/site-packages/sklearn/cluster/_kmeans.py:1412: FutureWarning: The default value of `n_init` will change from 10 to 'auto' in 1.4. Set the value of `n_init` explicitly to suppress the warning\n",
      "  super()._check_params_vs_input(X, default_n_init=10)\n"
     ]
    },
    {
     "data": {
      "image/png": "[encoded data removed]",
      "text/plain": [
       "<Figure size 640x480 with 1 Axes>"
      ]
     },
     "metadata": {},
     "output_type": "display_data"
    },
    {
     "name": "stderr",
     "output_type": "stream",
     "text": [
      "/Users/yufeizhang/anaconda3/lib/python3.11/site-packages/sklearn/cluster/_kmeans.py:1412: FutureWarning: The default value of `n_init` will change from 10 to 'auto' in 1.4. Set the value of `n_init` explicitly to suppress the warning\n",
      "  super()._check_params_vs_input(X, default_n_init=10)\n"
     ]
    },
    {
     "data": {
      "image/png": "[encoded data removed]",
      "text/plain": [
       "<Figure size 640x480 with 1 Axes>"
      ]
     },
     "metadata": {},
     "output_type": "display_data"
    },
    {
     "name": "stderr",
     "output_type": "stream",
     "text": [
      "/Users/yufeizhang/anaconda3/lib/python3.11/site-packages/sklearn/cluster/_kmeans.py:1412: FutureWarning: The default value of `n_init` will change from 10 to 'auto' in 1.4. Set the value of `n_init` explicitly to suppress the warning\n",
      "  super()._check_params_vs_input(X, default_n_init=10)\n"
     ]
    },
    {
     "data": {
      "image/png": "[encoded data removed]",
      "text/plain": [
       "<Figure size 640x480 with 1 Axes>"
      ]
     },
     "metadata": {},
     "output_type": "display_data"
    },
    {
     "name": "stderr",
     "output_type": "stream",
     "text": [
      "/Users/yufeizhang/anaconda3/lib/python3.11/site-packages/sklearn/cluster/_kmeans.py:1412: FutureWarning: The default value of `n_init` will change from 10 to 'auto' in 1.4. Set the value of `n_init` explicitly to suppress the warning\n",
      "  super()._check_params_vs_input(X, default_n_init=10)\n"
     ]
    },
    {
     "data": {
      "image/png": "[encoded data removed]",
      "text/plain": [
       "<Figure size 640x480 with 1 Axes>"
      ]
     },
     "metadata": {},
     "output_type": "display_data"
    },
    {
     "name": "stderr",
     "output_type": "stream",
     "text": [
      "/Users/yufeizhang/anaconda3/lib/python3.11/site-packages/sklearn/cluster/_kmeans.py:1412: FutureWarning: The default value of `n_init` will change from 10 to 'auto' in 1.4. Set the value of `n_init` explicitly to suppress the warning\n",
      "  super()._check_params_vs_input(X, default_n_init=10)\n"
     ]
    },
    {
     "data": {
      "image/png": "[encoded data removed]",
      "text/plain": [
       "<Figure size 640x480 with 1 Axes>"
      ]
     },
     "metadata": {},
     "output_type": "display_data"
    },
    {
     "name": "stderr",
     "output_type": "stream",
     "text": [
      "/Users/yufeizhang/anaconda3/lib/python3.11/site-packages/sklearn/cluster/_kmeans.py:1412: FutureWarning: The default value of `n_init` will change from 10 to 'auto' in 1.4. Set the value of `n_init` explicitly to suppress the warning\n",
      "  super()._check_params_vs_input(X, default_n_init=10)\n"
     ]
    },
    {
     "data": {
      "image/png": "[encoded data removed]",
      "text/plain": [
       "<Figure size 640x480 with 1 Axes>"
      ]
     },
     "metadata": {},
     "output_type": "display_data"
    },
    {
     "data": {
      "image/png": "[encoded data removed]",
      "text/plain": [
       "<Figure size 1000x500 with 1 Axes>"
      ]
     },
     "metadata": {},
     "output_type": "display_data"
    },
    {
     "data": {
      "image/png": "[encoded data removed]",
      "text/plain": [
       "<Figure size 1000x500 with 1 Axes>"
      ]
     },
     "metadata": {},
     "output_type": "display_data"
    }
   ],
   "source": [
    "import pandas as pd\n",
    "from sklearn.cluster import KMeans\n",
    "from sklearn.metrics import silhouette_score\n",
    "from sklearn.preprocessing import StandardScaler\n",
    "import matplotlib.pyplot as plt\n",
    "import seaborn as sns\n",
    "from scipy.stats import chi2_contingency \n",
    "\n",
    "# Load your data\n",
    "# df = pd.read_csv('your_data.csv')\n",
    "\n",
    "# Standardize the data\n",
    "scaler = StandardScaler()\n",
    "features = ['age', 'education', 'income']\n",
    "data_scaled = scaler.fit_transform(df[features])\n",
    "\n",
    "# Analyzing multiple k-values\n",
    "silhouettes = []\n",
    "chi_squared_stats = []\n",
    "k_values = range(2, 11)  # Example range from 2 to 10\n",
    "\n",
    "for k in k_values:\n",
    "    kmeans = KMeans(n_clusters=k, random_state=42)\n",
    "    cluster_labels = kmeans.fit_predict(data_scaled)\n",
    "    df['Cluster'] = cluster_labels\n",
    "    \n",
    "    # Silhouette Score\n",
    "    score = silhouette_score(data_scaled, cluster_labels)\n",
    "    silhouettes.append(score)\n",
    "    \n",
    "    # Calculate Chi-Squared Stat to see association with TenYearCHD\n",
    "    # Assuming TenYearCHD is categorical\n",
    "    contingency_table = pd.crosstab(df['Cluster'], df['TenYearCHD'])\n",
    "    chi2, p, dof, expected = chi2_contingency(contingency_table)\n",
    "    chi_squared_stats.append(p)\n",
    "    \n",
    "    # Visualization of TenYearCHD across clusters\n",
    "    sns.barplot(x='Cluster', y='TenYearCHD', data=df)\n",
    "    plt.title(f'Cluster Analysis k={k}')\n",
    "    plt.show()\n",
    "\n",
    "# Plot Silhouette Scores\n",
    "plt.figure(figsize=(10, 5))\n",
    "plt.plot(k_values, silhouettes, marker='o')\n",
    "plt.title('Silhouette Scores for Various k')\n",
    "plt.xlabel('Number of Clusters (k)')\n",
    "plt.ylabel('Silhouette Score')\n",
    "plt.grid(True)\n",
    "plt.show()\n",
    "\n",
    "# Assuming you want to look at p-values from Chi-Squared Tests\n",
    "plt.figure(figsize=(10, 5))\n",
    "plt.plot(k_values, chi_squared_stats, marker='o')\n",
    "plt.title('Chi-Squared p-values for Various k')\n",
    "plt.xlabel('Number of Clusters (k)')\n",
    "plt.ylabel('p-value')\n",
    "plt.yscale('log')  # Log scale to better see the differences\n",
    "plt.grid(True)\n",
    "plt.show()\n"
   ]
  },
  {
   "cell_type": "markdown",
   "id": "624cfb3a",
   "metadata": {},
   "source": [
    "### the best k is 5"
   ]
  },
  {
   "cell_type": "code",
   "execution_count": 39,
   "id": "715f39be",
   "metadata": {},
   "outputs": [
    {
     "name": "stderr",
     "output_type": "stream",
     "text": [
      "/Users/yufeizhang/anaconda3/lib/python3.11/site-packages/sklearn/cluster/_kmeans.py:1412: FutureWarning: The default value of `n_init` will change from 10 to 'auto' in 1.4. Set the value of `n_init` explicitly to suppress the warning\n",
      "  super()._check_params_vs_input(X, default_n_init=10)\n"
     ]
    }
   ],
   "source": [
    "scaler = StandardScaler()\n",
    "data_scaled = scaler.fit_transform(df[['age', 'education', 'income']])\n",
    "\n",
    "kmeans = KMeans(n_clusters=5, random_state=42)\n",
    "clusters = kmeans.fit_predict(data_scaled)\n",
    "\n",
    "# Add the cluster assignments to the dataframe\n",
    "df['Demographic Cluster'] = clusters\n",
    "\n",
    "df.drop(['age', 'education', 'income'], axis=1, inplace=True)"
   ]
  },
  {
   "cell_type": "code",
   "execution_count": 40,
   "id": "97402478",
   "metadata": {},
   "outputs": [],
   "source": [
    "from sklearn.model_selection import train_test_split\n",
    "from imblearn.over_sampling import SMOTE"
   ]
  },
  {
   "cell_type": "code",
   "execution_count": 50,
   "id": "dc98039f",
   "metadata": {},
   "outputs": [
    {
     "name": "stdout",
     "output_type": "stream",
     "text": [
      "0    2595\n",
      "1    2595\n",
      "Name: TenYearCHD, dtype: int64\n"
     ]
    }
   ],
   "source": [
    "smote = SMOTE(random_state=42)\n",
    "X_train_resampled, y_train_resampled = smote.fit_resample(X_train, y_train)\n",
    "\n",
    "# Check the new class distribution\n",
    "print(pd.Series(y_train_resampled).value_counts())"
   ]
  },
  {
   "cell_type": "markdown",
   "id": "1e628443",
   "metadata": {},
   "source": [
    "# feature selection"
   ]
  },
  {
   "cell_type": "code",
   "execution_count": 149,
   "id": "750a92cc",
   "metadata": {},
   "outputs": [
    {
     "name": "stderr",
     "output_type": "stream",
     "text": [
      "/Users/yufeizhang/anaconda3/lib/python3.11/site-packages/kfp/dsl/component_decorator.py:119: FutureWarning: Python 3.7 has reached end-of-life. The default base_image used by the @dsl.component decorator will switch from 'python:3.7' to 'python:3.8' on April 23, 2024. To ensure your existing components work with versions of the KFP SDK released after that date, you should provide an explicit base_image argument and ensure your component works as intended on Python 3.8.\n",
      "  return component_factory.create_component_from_func(\n"
     ]
    }
   ],
   "source": [
    "@component(packages_to_install=[\"pandas\", \"numpy\", \"fsspec\", \"gcsfs\"])\n",
    "def feature_select(input_dataset_path: str, output_dataset_path: OutputPath('Dataset')):\n",
    "    import pandas as pd\n",
    "\n",
    "    df = pd.read_csv(input_dataset_path)\n",
    "    df = df.drop('glucose', axis=1)\n",
    "    df = df.drop('patientID', axis=1)\n",
    "    df.to_csv(output_dataset_path, index=False)"
   ]
  },
  {
   "cell_type": "markdown",
   "id": "45cd673f",
   "metadata": {},
   "source": [
    "# Log transform"
   ]
  },
  {
   "cell_type": "code",
   "execution_count": 150,
   "id": "ff99d461",
   "metadata": {},
   "outputs": [],
   "source": [
    "from kfp.v2.dsl import OutputPath, InputPath\n",
    "\n",
    "@component(packages_to_install=[\"numpy\",'pandas'])\n",
    "def calculate_log(input_dataset_path: InputPath('Dataset'), \n",
    "                  output_dataset_path: OutputPath('Dataset')):\n",
    "\n",
    "    import numpy as np\n",
    "    import pandas as pd\n",
    "    \n",
    "    df = pd.read_csv(input_dataset_path)\n",
    "\n",
    "    df['log_bmi'] = np.log(df['BMI']+1)\n",
    "    df['log_tot_chol'] = np.log(df['totChol']+1)\n",
    "    df['log_sysbp'] = np.log(df['sysBP']+1)\n",
    "    df['log_a1c'] = np.log(df['a1c']+1)\n",
    "    df=df.drop('BMI',axis=1)\n",
    "    df=df.drop('totChol',axis=1)\n",
    "    df=df.drop('sysBP',axis=1)\n",
    "    df=df.drop('a1c',axis=1)\n",
    "\n",
    "    df.to_csv(output_dataset_path, index=False)"
   ]
  },
  {
   "cell_type": "markdown",
   "id": "59026646",
   "metadata": {},
   "source": [
    "# Split the dataset"
   ]
  },
  {
   "cell_type": "code",
   "execution_count": 151,
   "id": "d27bd254",
   "metadata": {},
   "outputs": [],
   "source": [
    "@component(packages_to_install=[\"pandas\", \"scikit-learn\"])\n",
    "def split_dataset(input_dataset_path: InputPath('Dataset'),\n",
    "                  training_dataset_path: OutputPath('Dataset'),\n",
    "                  validation_dataset_path: OutputPath('Dataset')):\n",
    "    \n",
    "    import pandas as pd\n",
    "    from sklearn.model_selection import train_test_split\n",
    "\n",
    "    data = pd.read_csv(input_dataset_path)\n",
    "    \n",
    "    train_df, val_df = train_test_split(data, test_size=0.20, random_state=42)\n",
    "    train_df.to_csv(training_dataset_path, index=False)\n",
    "    val_df.to_csv(validation_dataset_path, index=False)"
   ]
  },
  {
   "cell_type": "markdown",
   "id": "b142bb86",
   "metadata": {},
   "source": [
    "# Data imputation"
   ]
  },
  {
   "cell_type": "code",
   "execution_count": 152,
   "id": "f769c271",
   "metadata": {},
   "outputs": [],
   "source": [
    "@component(packages_to_install=[\"pandas\",'numpy','scikit-learn','scipy'])\n",
    "def train_imputation(training_dataset_path: InputPath('Dataset'),\n",
    "                        imputed_dataset_path: OutputPath('Dataset'),\n",
    "                        mean_saved: Output[Artifact],\n",
    "                        mode_saved: Output[Artifact],\n",
    "                        mode_cigs: Output[Artifact],\n",
    "                        mean_a1c_dia: Output[Artifact],\n",
    "                        mean_a1c_nondia: Output[Artifact]\n",
    "                       ):\n",
    "    import pandas as pd\n",
    "    from scipy.stats import mode\n",
    "\n",
    "    # Load dataset\n",
    "    df = pd.read_csv(training_dataset_path)\n",
    "    \n",
    "    # Continuous variables mean imputation\n",
    "    mean_values = {}\n",
    "    for col in ['log_tot_chol', 'log_bmi', 'heartRate']:\n",
    "        mean_values[col] = df[col].mean()\n",
    "        df[col].fillna(mean_values[col], inplace=True)\n",
    "        \n",
    "    # Discrete variables mode imputation\n",
    "    mode_values = {}\n",
    "    for col in ['BPMeds', 'education']:\n",
    "        mode_values[col] = df[col].mode()[0]\n",
    "        df[col].fillna(mode_values[col], inplace=True)\n",
    "    \n",
    "    # Cigarettes per day imputation\n",
    "    mode_cig_per = df.loc[df['currentSmoker'] == 1, 'cigsPerDay'].mode()[0]\n",
    "    df.loc[(df['cigsPerDay'].isnull()) & (df['currentSmoker'] == 0), 'cigsPerDay'] = 0\n",
    "    df.loc[(df['cigsPerDay'].isnull()) & (df['currentSmoker'] == 1), 'cigsPerDay'] = mode_cig_per\n",
    "    \n",
    "    # A1C mean imputation by diabetes status\n",
    "    mean_a1c_diabetic = df[df['diabetes'] == 1]['log_a1c'].mean()\n",
    "    mean_a1c_nondiabetic = df[df['diabetes'] == 0]['log_a1c'].mean()\n",
    "    df.loc[(df['log_a1c'].isnull()) & (df['diabetes'] == 1), 'log_a1c'] = mean_a1c_diabetic\n",
    "    df.loc[(df['log_a1c'].isnull()) & (df['diabetes'] == 0), 'log_a1c'] = mean_a1c_nondiabetic\n",
    "    \n",
    "    # Save imputed dataset and metadata\n",
    "    df.to_csv(imputed_dataset_path, index=False)\n",
    "    mean_saved.metadata['value'] = mean_values\n",
    "    mode_saved.metadata['value'] = mode_values\n",
    "    mode_cigs.metadata['value'] = mode_cig_per\n",
    "    mean_a1c_dia.metadata['value'] = mean_a1c_diabetic\n",
    "    mean_a1c_nondia.metadata['value'] = mean_a1c_nondiabetic"
   ]
  },
  {
   "cell_type": "code",
   "execution_count": 153,
   "id": "fd4110ff",
   "metadata": {},
   "outputs": [],
   "source": [
    "@component(packages_to_install=[\"pandas\"])\n",
    "def test_imputation(test_dataset_path: InputPath('Dataset'),\n",
    "                       imputed_dataset_path: OutputPath('Dataset'),\n",
    "                       mean_saved: Input[Artifact],\n",
    "                       mode_saved: Input[Artifact],\n",
    "                       mode_cigs: Input[Artifact],\n",
    "                       mean_a1c_dia: Input[Artifact],\n",
    "                       mean_a1c_nondia: Input[Artifact]):\n",
    "    import pandas as pd\n",
    "    \n",
    "    # Load test dataset\n",
    "    df = pd.read_csv(test_dataset_path)\n",
    "    \n",
    "    # Apply mean and mode imputations\n",
    "    for col, value in mean_saved.metadata['value'].items():\n",
    "        df[col].fillna(value, inplace=True)\n",
    "    for col, value in mode_saved.metadata['value'].items():\n",
    "        df[col].fillna(value, inplace=True)\n",
    "    df.loc[(df['cigsPerDay'].isnull()) & (df['currentSmoker'] == 0), 'cigsPerDay'] = 0\n",
    "    df.loc[(df['cigsPerDay'].isnull()) & (df['currentSmoker'] == 1), 'cigsPerDay'] = mode_cigs.metadata['value']\n",
    "\n",
    "    # Apply A1C imputation\n",
    "    df.loc[(df['log_a1c'].isnull()) & (df['diabetes'] == 1), 'log_a1c'] = mean_a1c_dia.metadata['value']\n",
    "    df.loc[(df['log_a1c'].isnull()) & (df['diabetes'] == 0), 'log_a1c'] = mean_a1c_nondia.metadata['value']\n",
    "    \n",
    "    # Save the imputed dataframe\n",
    "    df.to_csv(imputed_dataset_path, index=False)"
   ]
  },
  {
   "cell_type": "markdown",
   "id": "c7d47df3",
   "metadata": {},
   "source": [
    "# Data engineering"
   ]
  },
  {
   "cell_type": "code",
   "execution_count": 154,
   "id": "abb9d617",
   "metadata": {},
   "outputs": [],
   "source": [
    "@component(packages_to_install=[\"pandas\", \"numpy\", \"scikit-learn\", \"joblib\"])\n",
    "def scale_and_cluster_train_data(training_dataset_path: InputPath('Dataset'),\n",
    "                                 updated_training_path: OutputPath('Dataset'),\n",
    "                                 scaler_path: OutputPath('Model'),\n",
    "                                 kmeans_path: OutputPath('Model'),\n",
    "                                 drop_originals: bool = True):\n",
    "    import pandas as pd\n",
    "    from sklearn.preprocessing import StandardScaler\n",
    "    from sklearn.cluster import KMeans\n",
    "    import joblib\n",
    "\n",
    "    # Load training dataset\n",
    "    df_train = pd.read_csv(training_dataset_path)\n",
    "\n",
    "    # Scaling features\n",
    "    features_to_scale = ['age', 'education', 'income']\n",
    "    scaler = StandardScaler()\n",
    "    data_scaled = scaler.fit_transform(df_train[features_to_scale])\n",
    "    joblib.dump(scaler, scaler_path)\n",
    "\n",
    "    # Clustering\n",
    "    kmeans = KMeans(n_clusters=5, random_state=42)\n",
    "    clusters = kmeans.fit_predict(data_scaled)\n",
    "    joblib.dump(kmeans, kmeans_path)\n",
    "\n",
    "    # Add cluster assignments to the dataframe\n",
    "    df_train['Demographic Cluster'] = clusters\n",
    "\n",
    "    # Optionally drop original features\n",
    "    if drop_originals:\n",
    "        df_train.drop(features_to_scale, axis=1, inplace=True)\n",
    "\n",
    "    # Save the updated dataframe\n",
    "    df_train.to_csv(updated_training_path, index=False)\n"
   ]
  },
  {
   "cell_type": "code",
   "execution_count": 155,
   "id": "d88ac599",
   "metadata": {},
   "outputs": [],
   "source": [
    "@component(packages_to_install=[\"pandas\", \"numpy\", \"scikit-learn\",\"joblib\"])\n",
    "def apply_scaling_clustering_test_data(test_dataset_path: InputPath('Dataset'),\n",
    "                                       updated_test_path: OutputPath('Dataset'),\n",
    "                                       scaler_path: InputPath('Model'),\n",
    "                                       kmeans_path: InputPath('Model'),\n",
    "                                       drop_originals: bool = True):\n",
    "    import pandas as pd\n",
    "    import joblib\n",
    "    from sklearn.preprocessing import StandardScaler\n",
    "    from sklearn.cluster import KMeans\n",
    "\n",
    "    # Load test dataset\n",
    "    df_test = pd.read_csv(test_dataset_path)\n",
    "\n",
    "    # Load scaler and k-means models\n",
    "    scaler = joblib.load(scaler_path)\n",
    "    kmeans = joblib.load(kmeans_path)\n",
    "\n",
    "    # Apply scaling\n",
    "    features_to_scale = ['age', 'education', 'income']\n",
    "    data_scaled = scaler.transform(df_test[features_to_scale])\n",
    "\n",
    "    # Apply clustering\n",
    "    clusters = kmeans.predict(data_scaled)\n",
    "    df_test['Demographic Cluster'] = clusters\n",
    "\n",
    "    # Optionally drop original features\n",
    "    if drop_originals:\n",
    "        df_test.drop(features_to_scale, axis=1, inplace=True)\n",
    "\n",
    "    # Save the updated dataframe\n",
    "    df_test.to_csv(updated_test_path, index=False)\n"
   ]
  },
  {
   "cell_type": "markdown",
   "id": "ab422d3f",
   "metadata": {},
   "source": [
    "# SMOTE"
   ]
  },
  {
   "cell_type": "code",
   "execution_count": 156,
   "id": "31f129c5",
   "metadata": {},
   "outputs": [],
   "source": [
    "@component(packages_to_install=[\"pandas\",  \"numpy\", \"scikit-learn\",\"imbalanced-learn==0.11.0\"])\n",
    "def apply_smote(training_dataset_path: InputPath('Dataset'),\n",
    "                balanced_dataset_path: OutputPath('Dataset'),\n",
    "                target_column: str):\n",
    "    \n",
    "    import pandas as pd\n",
    "    import numpy as np\n",
    "    from imblearn.over_sampling import SMOTE\n",
    "    \n",
    "    # Load the preprocessed training dataset\n",
    "    df = pd.read_csv(training_dataset_path)\n",
    "\n",
    "    # Separating the features and the target\n",
    "    X = df.drop(target_column, axis=1)\n",
    "    y = df[target_column]\n",
    "\n",
    "    # Initialize SMOTE and resample the data\n",
    "    smote = SMOTE(random_state=42)\n",
    "    X_res, y_res = smote.fit_resample(X, y)\n",
    "\n",
    "    # Combine resampled features and target into a single DataFrame\n",
    "    df_resampled = pd.DataFrame(X_res, columns=X.columns)\n",
    "    df_resampled[target_column] = y_res\n",
    "\n",
    "    # Save the balanced dataset\n",
    "    df_resampled.to_csv(balanced_dataset_path, index=False)\n"
   ]
  },
  {
   "cell_type": "markdown",
   "id": "58408e17",
   "metadata": {},
   "source": [
    "# Modeling"
   ]
  },
  {
   "cell_type": "markdown",
   "id": "17a6ec06",
   "metadata": {},
   "source": [
    "## Logistic"
   ]
  },
  {
   "cell_type": "code",
   "execution_count": 157,
   "id": "4541e143",
   "metadata": {},
   "outputs": [],
   "source": [
    "from kfp.v2.dsl import Model,Dataset,Input,Output\n",
    "\n",
    "@component(packages_to_install=[\"pandas\", \"scikit-learn\", \"joblib\"])\n",
    "def train_logistic_regression(training_dataset_path: Input[Dataset],\n",
    "                              output_model: Output[Model]):\n",
    "    import pandas as pd\n",
    "    from sklearn.linear_model import LogisticRegression\n",
    "    import joblib\n",
    "\n",
    "    # Load the training data\n",
    "    train_df = pd.read_csv(training_dataset_path.path)\n",
    "\n",
    "    X_train = train_df.drop(columns=['TenYearCHD'])\n",
    "    y_train = train_df['TenYearCHD']\n",
    "    \n",
    "    model = LogisticRegression(max_iter=1000)\n",
    "    model.fit(X_train, y_train)\n",
    "\n",
    "    # Save the model to the designated output path\n",
    "    joblib.dump(model, output_model.path)"
   ]
  },
  {
   "cell_type": "markdown",
   "id": "9734aa76",
   "metadata": {},
   "source": [
    "## SVC"
   ]
  },
  {
   "cell_type": "code",
   "execution_count": 158,
   "id": "14a9e366",
   "metadata": {},
   "outputs": [],
   "source": [
    "@component(packages_to_install=[\"pandas\", \"scikit-learn\", \"joblib\"])\n",
    "def train_svc(training_dataset_path: Input[Dataset],\n",
    "              output_model: Output[Model]):\n",
    "    import pandas as pd\n",
    "    from sklearn.svm import SVC\n",
    "    import joblib\n",
    "\n",
    "    # Load the training data\n",
    "    train_df = pd.read_csv(training_dataset_path.path)\n",
    "    X_train = train_df.drop(columns=['TenYearCHD'])\n",
    "    y_train = train_df['TenYearCHD']\n",
    "\n",
    "    # Train the model\n",
    "    model = SVC(probability=True, random_state=42)\n",
    "    model.fit(X_train, y_train)\n",
    "\n",
    "    # Save the model\n",
    "    joblib.dump(model, output_model.path)"
   ]
  },
  {
   "cell_type": "markdown",
   "id": "ed6103c8",
   "metadata": {},
   "source": [
    "## Decision Tree"
   ]
  },
  {
   "cell_type": "code",
   "execution_count": 159,
   "id": "a09b5f4d",
   "metadata": {},
   "outputs": [],
   "source": [
    "@component(packages_to_install=[\"pandas\", \"scikit-learn\", \"joblib\"])\n",
    "def train_decision_tree(training_dataset_path: Input[Dataset],\n",
    "                        output_model: Output[Model]):\n",
    "    import pandas as pd\n",
    "    from sklearn.tree import DecisionTreeClassifier\n",
    "    import joblib\n",
    "\n",
    "    # Load the training data\n",
    "    train_df = pd.read_csv(training_dataset_path.path)\n",
    "    X_train = train_df.drop(columns=['TenYearCHD'])\n",
    "    y_train = train_df['TenYearCHD']\n",
    "\n",
    "    # Train the model\n",
    "    model = DecisionTreeClassifier(random_state=42)\n",
    "    model.fit(X_train, y_train)\n",
    "\n",
    "    # Save the model\n",
    "    joblib.dump(model, output_model.path)"
   ]
  },
  {
   "cell_type": "markdown",
   "id": "a2d85b6c",
   "metadata": {},
   "source": [
    "## Random Forest"
   ]
  },
  {
   "cell_type": "code",
   "execution_count": 160,
   "id": "378b6f5e",
   "metadata": {},
   "outputs": [],
   "source": [
    "@component(packages_to_install=[\"pandas\", \"scikit-learn\", \"joblib\"])\n",
    "def train_random_forest(training_dataset_path: Input[Dataset],\n",
    "                        output_model: Output[Model]):\n",
    "    import pandas as pd\n",
    "    from sklearn.ensemble import RandomForestClassifier\n",
    "    import joblib\n",
    "\n",
    "    # Load the training data\n",
    "    train_df = pd.read_csv(training_dataset_path.path)\n",
    "    X_train = train_df.drop(columns=['TenYearCHD'])\n",
    "    y_train = train_df['TenYearCHD']\n",
    "\n",
    "    # Train the model\n",
    "    model = RandomForestClassifier(n_estimators=100, random_state=42)\n",
    "    model.fit(X_train, y_train)\n",
    "\n",
    "    # Save the model\n",
    "    joblib.dump(model, output_model.path)"
   ]
  },
  {
   "cell_type": "markdown",
   "id": "c5e53316",
   "metadata": {},
   "source": [
    "## XGBoost"
   ]
  },
  {
   "cell_type": "code",
   "execution_count": 161,
   "id": "e87d608a",
   "metadata": {},
   "outputs": [],
   "source": [
    "@component(packages_to_install=[\"pandas\", \"xgboost\",\"scikit-learn\", \"joblib\"])\n",
    "def train_xgboost(training_dataset_path: Input[Dataset],\n",
    "                  output_model: Output[Model]):\n",
    "    import pandas as pd\n",
    "    import xgboost as xgb\n",
    "    import joblib\n",
    "    import sklearn\n",
    "\n",
    "    # Load the training data\n",
    "    train_df = pd.read_csv(training_dataset_path.path)\n",
    "    X_train = train_df.drop(columns=['TenYearCHD'])\n",
    "    y_train = train_df['TenYearCHD']\n",
    "\n",
    "    # Define and train the model\n",
    "    model = xgb.XGBClassifier(use_label_encoder=False, eval_metric='logloss', random_state=42)\n",
    "    model.fit(X_train, y_train)\n",
    "\n",
    "    # Save the model\n",
    "    joblib.dump(model, output_model.path)"
   ]
  },
  {
   "cell_type": "markdown",
   "id": "beb437fd",
   "metadata": {},
   "source": [
    "## Voting"
   ]
  },
  {
   "cell_type": "code",
   "execution_count": 162,
   "id": "3e0a5bd7",
   "metadata": {},
   "outputs": [],
   "source": [
    "@component(packages_to_install=[\"pandas\", \"scikit-learn\", \"joblib\", \"xgboost\"])\n",
    "def train_voting_ensemble(training_dataset_path: Input[Dataset],\n",
    "                          logistic_model: Input[Model],\n",
    "                          svc_model: Input[Model],\n",
    "                          tree_model: Input[Model],\n",
    "                          xgboost_model: Input[Model],\n",
    "                          random_forest_model: Input[Model],\n",
    "                          output_ensemble_model: Output[Model]):\n",
    "    import pandas as pd\n",
    "    from sklearn.ensemble import VotingClassifier\n",
    "    import joblib\n",
    "\n",
    "    # Load the training data\n",
    "    train_df = pd.read_csv(training_dataset_path.path)\n",
    "    X_train = train_df.drop(columns=['TenYearCHD'])\n",
    "    y_train = train_df['TenYearCHD']\n",
    "\n",
    "    # Load individual models\n",
    "    logistic = joblib.load(logistic_model.path)\n",
    "    svc = joblib.load(svc_model.path)\n",
    "    tree = joblib.load(tree_model.path)\n",
    "    xgboost = joblib.load(xgboost_model.path)\n",
    "    random_forest = joblib.load(random_forest_model.path)\n",
    "\n",
    "    # Create a voting ensemble\n",
    "    ensemble = VotingClassifier(estimators=[\n",
    "        ('logistic', logistic),\n",
    "        ('svc', svc),\n",
    "        ('tree', tree),\n",
    "        ('xgboost', xgboost),\n",
    "        ('random_forest', random_forest)\n",
    "    ], voting='soft')\n",
    "\n",
    "    # Train the ensemble\n",
    "    ensemble.fit(X_train, y_train)\n",
    "\n",
    "    # Save the ensemble model\n",
    "    joblib.dump(ensemble, output_ensemble_model.path)"
   ]
  },
  {
   "cell_type": "markdown",
   "id": "2f100262",
   "metadata": {},
   "source": [
    "# Model Evaluation"
   ]
  },
  {
   "cell_type": "code",
   "execution_count": 183,
   "id": "92db3d98",
   "metadata": {},
   "outputs": [],
   "source": [
    "from kfp.v2.dsl import Metrics\n",
    "\n",
    "@component(packages_to_install=[\"pandas\", \"scikit-learn\", \"joblib\", \"xgboost\"])\n",
    "def evaluate_model(test_dataset_path: Input[Dataset],\n",
    "                            model: Input[Model],\n",
    "                            metrics_output: Output[Metrics]):\n",
    "    import pandas as pd\n",
    "    from sklearn.metrics import accuracy_score, f1_score, precision_recall_curve, auc\n",
    "    import joblib\n",
    "    import sklearn\n",
    "    import xgboost\n",
    "\n",
    "    # Load the test dataset\n",
    "    test_df = pd.read_csv(test_dataset_path.path)\n",
    "    X_test = test_df.drop(columns=['TenYearCHD'])\n",
    "    y_test = test_df['TenYearCHD']\n",
    "\n",
    "    # Load the ensemble model\n",
    "    model = joblib.load(model.path)\n",
    "\n",
    "\n",
    "    # Make predictions\n",
    "    y_pred = model.predict(X_test)\n",
    "    y_prob = model.predict_proba(X_test)[:, 1]\n",
    "    \n",
    "    # Calculate metrics\n",
    "    accuracy = accuracy_score(y_test, y_pred)\n",
    "    f1 = f1_score(y_test, y_pred, average='weighted')\n",
    "\n",
    "    # Calculate Precision-Recall curve and AUC\n",
    "    precision, recall, _ = precision_recall_curve(y_test, y_prob)\n",
    "    auc_precision_recall = auc(recall, precision)\n",
    "\n",
    "    # Log the metrics\n",
    "    metrics_output.log_metric(\"accuracy\", accuracy)\n",
    "    metrics_output.log_metric(\"f1_score\", f1)\n",
    "    metrics_output.log_metric(\"auc_precision_recall\", auc_precision_recall)"
   ]
  },
  {
   "cell_type": "markdown",
   "id": "ec0a460e",
   "metadata": {},
   "source": [
    "# Define Pipeline"
   ]
  },
  {
   "cell_type": "code",
   "execution_count": 184,
   "id": "24f00912",
   "metadata": {},
   "outputs": [],
   "source": [
    "@pipeline(name='final-project-pipeline')\n",
    "def final_pipeline(input_dataset_path: str):\n",
    "    \n",
    "    # feature selection\n",
    "    selected_dataset = feature_select(input_dataset_path=input_dataset_path)\n",
    "\n",
    "    \n",
    "    #log transform\n",
    "    processed_dataset = calculate_log(input_dataset_path=selected_dataset.output)\n",
    "\n",
    "    #dataset split\n",
    "    split_result = split_dataset(input_dataset_path=processed_dataset.output)\n",
    "    \n",
    "    #data imputation\n",
    "    imputed_training_result = train_imputation(training_dataset_path=split_result.outputs['training_dataset_path'])\n",
    "    imputed_test_result = test_imputation(\n",
    "        test_dataset_path=split_result.outputs['validation_dataset_path'],\n",
    "        mean_saved=imputed_training_result.outputs['mean_saved'],\n",
    "        mode_saved=imputed_training_result.outputs['mode_saved'],\n",
    "        mode_cigs=imputed_training_result.outputs['mode_cigs'],\n",
    "        mean_a1c_dia=imputed_training_result.outputs['mean_a1c_dia'],\n",
    "        mean_a1c_nondia=imputed_training_result.outputs['mean_a1c_nondia']\n",
    "    )\n",
    "    \n",
    "    #data engineering\n",
    "    engineered_train_result = scale_and_cluster_train_data(\n",
    "        training_dataset_path=imputed_training_result.outputs['imputed_dataset_path']\n",
    "    \n",
    "    )\n",
    "    engineered_test_result = apply_scaling_clustering_test_data(\n",
    "        test_dataset_path=imputed_test_result.outputs['imputed_dataset_path'],\n",
    "        scaler_path=engineered_train_result.outputs['scaler_path'],\n",
    "        kmeans_path=engineered_train_result.outputs['kmeans_path']\n",
    "    \n",
    "    )\n",
    "    \n",
    "    #smote\n",
    "    smoted_train = apply_smote(\n",
    "        training_dataset_path=engineered_train_result.outputs['updated_training_path'],\n",
    "        target_column='TenYearCHD'\n",
    "    )\n",
    "\n",
    "    #pass the output of the datapreparation to the model training\n",
    "    lr_model =  train_logistic_regression(training_dataset_path=smoted_train.outputs['balanced_dataset_path'])\n",
    "    svc_model =  train_svc(training_dataset_path=smoted_train.outputs['balanced_dataset_path'])\n",
    "    dt_model =  train_decision_tree(training_dataset_path=smoted_train.outputs['balanced_dataset_path'])\n",
    "    rf_model =  train_random_forest(training_dataset_path=smoted_train.outputs['balanced_dataset_path'])\n",
    "    xgb_model =  train_xgboost(training_dataset_path=smoted_train.outputs['balanced_dataset_path'])\n",
    "    \n",
    "    voting_model=train_voting_ensemble(\n",
    "        training_dataset_path=smoted_train.outputs['balanced_dataset_path'],\n",
    "        logistic_model=lr_model.output,\n",
    "        svc_model=svc_model.output,\n",
    "        xgboost_model=xgb_model.output,\n",
    "        random_forest_model=rf_model.output,\n",
    "        tree_model=dt_model.output\n",
    "    )\n",
    "    \n",
    "    #pass the trained model to evaluate\n",
    "    evaluate_model(\n",
    "      test_dataset_path=engineered_test_result.output,\n",
    "      model=voting_model.output\n",
    "    )\n"
   ]
  },
  {
   "cell_type": "markdown",
   "id": "acf61a62",
   "metadata": {},
   "source": [
    "# Compile and Run the Pipeline"
   ]
  },
  {
   "cell_type": "code",
   "execution_count": 185,
   "id": "8126753a",
   "metadata": {},
   "outputs": [],
   "source": [
    "from kfp.v2 import compiler\n",
    "\n",
    "compiler.Compiler().compile(\n",
    "    pipeline_func=final_pipeline,\n",
    "    package_path='final_pipeline.json'\n",
    ")"
   ]
  },
  {
   "cell_type": "code",
   "execution_count": 186,
   "id": "0a264a91",
   "metadata": {},
   "outputs": [],
   "source": [
    "project_id = 'ise543-module8-421223'\n",
    "location = 'us-central1'\n",
    "\n",
    "from google.cloud import aiplatform\n",
    "aiplatform.init(project=project_id, location=location)\n",
    "from kfp.dsl import pipeline\n",
    "\n",
    "pipeline_job = aiplatform.PipelineJob(\n",
    "    display_name='final_pipeline',\n",
    "    template_path='final_pipeline.json',\n",
    "    pipeline_root='gs://ise543-module8-hw-yufei',\n",
    "    parameter_values={\n",
    "        'input_dataset_path': 'gs://ise543-module8-hw-yufei/Final Project Dataset.csv'},      \n",
    "    enable_caching=True\n",
    ")"
   ]
  },
  {
   "cell_type": "code",
   "execution_count": 187,
   "id": "005ee78c",
   "metadata": {},
   "outputs": [
    {
     "name": "stdout",
     "output_type": "stream",
     "text": [
      "Creating PipelineJob\n",
      "PipelineJob created. Resource name: projects/49985438948/locations/us-central1/pipelineJobs/final-project-pipeline-20240504001105\n",
      "To use this PipelineJob in another session:\n",
      "pipeline_job = aiplatform.PipelineJob.get('projects/49985438948/locations/us-central1/pipelineJobs/final-project-pipeline-20240504001105')\n",
      "View Pipeline Job:\n",
      "https://console.cloud.google.com/vertex-ai/locations/us-central1/pipelines/runs/final-project-pipeline-20240504001105?project=49985438948\n",
      "PipelineJob projects/49985438948/locations/us-central1/pipelineJobs/final-project-pipeline-20240504001105 current state:\n",
      "3\n",
      "PipelineJob projects/49985438948/locations/us-central1/pipelineJobs/final-project-pipeline-20240504001105 current state:\n",
      "3\n",
      "PipelineJob projects/49985438948/locations/us-central1/pipelineJobs/final-project-pipeline-20240504001105 current state:\n",
      "3\n",
      "PipelineJob projects/49985438948/locations/us-central1/pipelineJobs/final-project-pipeline-20240504001105 current state:\n",
      "3\n",
      "PipelineJob run completed. Resource name: projects/49985438948/locations/us-central1/pipelineJobs/final-project-pipeline-20240504001105\n"
     ]
    }
   ],
   "source": [
    "pipeline_job.run()"
   ]
  }
 ],
 "metadata": {
  "kernelspec": {
   "display_name": "Python 3 (ipykernel)",
   "language": "python",
   "name": "python3"
  },
  "language_info": {
   "codemirror_mode": {
    "name": "ipython",
    "version": 3
   },
   "file_extension": ".py",
   "mimetype": "text/x-python",
   "name": "python",
   "nbconvert_exporter": "python",
   "pygments_lexer": "ipython3",
   "version": "3.11.11"
  }
 },
 "nbformat": 4,
 "nbformat_minor": 5
}
